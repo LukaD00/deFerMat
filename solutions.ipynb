{
 "cells": [
  {
   "cell_type": "code",
   "execution_count": 10,
   "metadata": {},
   "outputs": [],
   "source": [
    "import math\n",
    "import scipy\n",
    "from integrate import Trapezoidal, TrapezoidalSingularity\n",
    "\n",
    "%load_ext autoreload\n",
    "%autoreload 2"
   ]
  },
  {
   "cell_type": "code",
   "execution_count": 2,
   "metadata": {},
   "outputs": [
    {
     "name": "stdout",
     "output_type": "stream",
     "text": [
      "0.8047008069156589\n",
      "(0.8047764893437559, 2.871159687626734e-13)\n"
     ]
    }
   ],
   "source": [
    "integrator = Trapezoidal(0.0001)\n",
    "integrand = lambda t : math.sin(t**2)\n",
    "\n",
    "f = lambda x : integrator(integrand, 0, x)\n",
    "x = 2\n",
    "print(f(x))\n",
    "print(scipy.integrate.quad(integrand, 0, x))"
   ]
  },
  {
   "cell_type": "code",
   "execution_count": 3,
   "metadata": {},
   "outputs": [
    {
     "name": "stdout",
     "output_type": "stream",
     "text": [
      "6.314983398012097\n",
      "(6.324555320336752, 3.375077994860476e-14)\n",
      "6.324555320336759\n"
     ]
    }
   ],
   "source": [
    "integrator = TrapezoidalSingularity(0.0001)\n",
    "integrand = lambda t : 1 / math.sqrt(t)\n",
    "\n",
    "f = lambda x : integrator(integrand, 0, x)\n",
    "x = 10\n",
    "print(f(x))\n",
    "print(scipy.integrate.quad(integrand, 0, x))\n",
    "\n",
    "analytical = lambda x : 2 * math.sqrt(x)\n",
    "print(analytical(x))"
   ]
  },
  {
   "cell_type": "code",
   "execution_count": 40,
   "metadata": {},
   "outputs": [
    {
     "name": "stdout",
     "output_type": "stream",
     "text": [
      "0.846551009478061\n",
      "(0.8465735902799725, 9.992007221626409e-16)\n",
      "0.8465735902799727\n"
     ]
    }
   ],
   "source": [
    "integrator = TrapezoidalSingularity(0.0001)\n",
    "integrand = lambda t : -math.log(t)\n",
    "\n",
    "f = lambda x : integrator(integrand, 0, x)\n",
    "x = 0.5\n",
    "print(f(x))\n",
    "print(scipy.integrate.quad(integrand, 0, x))\n",
    "\n",
    "analytical = lambda x : x - x * math.log(x)\n",
    "print(analytical(x))"
   ]
  },
  {
   "cell_type": "code",
   "execution_count": 41,
   "metadata": {},
   "outputs": [
    {
     "name": "stdout",
     "output_type": "stream",
     "text": [
      "-50.608889918406774\n",
      "(-50.608889940182415, 7.288959426851113e-13)\n",
      "-50.608889940182415\n"
     ]
    }
   ],
   "source": [
    "integrator = TrapezoidalSingularity(0.000001)\n",
    "integrand = lambda t : math.exp(t) * math.cos(t)\n",
    "\n",
    "f = lambda x : integrator(integrand, 0, x)\n",
    "x = 5\n",
    "print(f(x))\n",
    "print(scipy.integrate.quad(integrand, 0, x))\n",
    "\n",
    "analytical = lambda x : math.exp(x) * (math.cos(x) + math.sin(x)) / 2 - 0.5\n",
    "print(analytical(x))"
   ]
  },
  {
   "cell_type": "code",
   "execution_count": 42,
   "metadata": {},
   "outputs": [
    {
     "name": "stdout",
     "output_type": "stream",
     "text": [
      "0.40864369355133734\n",
      "(0.4086436935482122, 4.5368563744509165e-15)\n",
      "0.40864369354821206\n"
     ]
    }
   ],
   "source": [
    "integrator = TrapezoidalSingularity(0.000001)\n",
    "integrand = lambda t : t**2 * math.cosh(t**2)\n",
    "\n",
    "f = lambda x : integrator(integrand, 0, x)\n",
    "x = 1\n",
    "print(f(x))\n",
    "print(scipy.integrate.quad(integrand, 0, x))\n",
    "\n",
    "analytical = lambda x : (2 * (x * math.exp(x**2) - x * math.exp(-x**2)) - math.sqrt(math.pi) * (scipy.special.erfi(x) - math.erf(x)) ) / 8\n",
    "print(analytical(x))"
   ]
  },
  {
   "cell_type": "code",
   "execution_count": 25,
   "metadata": {},
   "outputs": [
    {
     "name": "stdout",
     "output_type": "stream",
     "text": [
      "2.105714500452286\n",
      "(2.1057142579335517, 4.039141261058767e-05)\n",
      "1.671085526418816\n",
      "2.105712991897069\n"
     ]
    },
    {
     "name": "stderr",
     "output_type": "stream",
     "text": [
      "/tmp/ipykernel_6373/1552586722.py:7: IntegrationWarning: The maximum number of subdivisions (50) has been achieved.\n",
      "  If increasing the limit yields no improvement it is advised to analyze \n",
      "  the integrand in order to determine the difficulties.  If the position of a \n",
      "  local difficulty can be determined (singularity, discontinuity) one will \n",
      "  probably gain from splitting up the interval and calling the integrator \n",
      "  on the subranges.  Perhaps a special-purpose integrator should be used.\n",
      "  print(scipy.integrate.quad(integrand, 0, x))\n"
     ]
    }
   ],
   "source": [
    "integrator = TrapezoidalSingularity(0.00001)\n",
    "integrand = lambda t : math.sin(1/t) * math.sqrt(t) + math.cos(t)\n",
    "\n",
    "f = lambda x : integrator(integrand, 0, x)\n",
    "x = 2\n",
    "print(f(x))\n",
    "print(scipy.integrate.quad(integrand, 0, x))\n",
    "\n",
    "analytical = lambda x : math.sin(x) + (2 * math.sqrt(x) * (math.sin(1/x)*x + 2*math.cos(1/x)) + 2**(5/2) * math.sqrt(math.pi) * scipy.special.fresnel(math.sqrt(2 / (math.pi * x)))[0]) / 3\n",
    "print(analytical(x)-analytical(0.0000001))"
   ]
  },
  {
   "cell_type": "code",
   "execution_count": 30,
   "metadata": {},
   "outputs": [
    {
     "name": "stdout",
     "output_type": "stream",
     "text": [
      "2.320150636684737\n",
      "(2.320150409527074, 3.945288540307956e-12)\n",
      "2.105712991897069\n"
     ]
    }
   ],
   "source": [
    "integrator = TrapezoidalSingularity(0.000001)\n",
    "integrand = lambda t : math.sin(t) * math.sqrt(1/t) + math.cos(t)\n",
    "\n",
    "f = lambda x : integrator(integrand, 0, x)\n",
    "x = 2\n",
    "print(f(x))\n",
    "print(scipy.integrate.quad(integrand, 0, x))\n",
    "\n",
    "analytical = lambda x : math.sin(x) + (2 * math.sqrt(x) * (math.sin(1/x)*x + 2*math.cos(1/x)) + 2**(5/2) * math.sqrt(math.pi) * scipy.special.fresnel(math.sqrt(2 / (math.pi * x)))[0]) / 3\n",
    "print(analytical(x) - analytical(0.0000001))"
   ]
  },
  {
   "cell_type": "code",
   "execution_count": 6,
   "metadata": {},
   "outputs": [
    {
     "name": "stdout",
     "output_type": "stream",
     "text": [
      "0.8047008069156589\n"
     ]
    }
   ],
   "source": []
  },
  {
   "cell_type": "code",
   "execution_count": null,
   "metadata": {},
   "outputs": [],
   "source": []
  },
  {
   "cell_type": "code",
   "execution_count": null,
   "metadata": {},
   "outputs": [],
   "source": []
  }
 ],
 "metadata": {
  "kernelspec": {
   "display_name": "Python 3",
   "language": "python",
   "name": "python3"
  },
  "language_info": {
   "codemirror_mode": {
    "name": "ipython",
    "version": 3
   },
   "file_extension": ".py",
   "mimetype": "text/x-python",
   "name": "python",
   "nbconvert_exporter": "python",
   "pygments_lexer": "ipython3",
   "version": "3.10.6"
  },
  "orig_nbformat": 4
 },
 "nbformat": 4,
 "nbformat_minor": 2
}
