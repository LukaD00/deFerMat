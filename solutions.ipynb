{
 "cells": [
  {
   "cell_type": "code",
   "execution_count": 1,
   "metadata": {},
   "outputs": [],
   "source": [
    "import math\n",
    "import scipy\n",
    "from integrate import Trapezoidal, TrapezoidalSingularity, TanhSinhQuadrature"
   ]
  },
  {
   "cell_type": "code",
   "execution_count": 2,
   "metadata": {},
   "outputs": [
    {
     "name": "stdout",
     "output_type": "stream",
     "text": [
      "0.8047008069156589\n",
      "(0.8047764893437559, 2.8711596876267356e-13)\n"
     ]
    }
   ],
   "source": [
    "integrator = Trapezoidal(0.0001)\n",
    "integrand = lambda t : math.sin(t**2)\n",
    "\n",
    "f = lambda x : integrator(integrand, 0, x)\n",
    "x = 2\n",
    "print(f(x))\n",
    "print(scipy.integrate.quad(integrand, 0, x))"
   ]
  },
  {
   "cell_type": "code",
   "execution_count": 3,
   "metadata": {},
   "outputs": [
    {
     "name": "stdout",
     "output_type": "stream",
     "text": [
      "6.314983398012097\n",
      "(6.324555320336752, 3.375077994860476e-14)\n",
      "6.324555320336759\n"
     ]
    }
   ],
   "source": [
    "integrator = TrapezoidalSingularity(0.0001)\n",
    "integrand = lambda t : 1 / math.sqrt(t)\n",
    "\n",
    "f = lambda x : integrator(integrand, 0, x)\n",
    "x = 10\n",
    "print(f(x))\n",
    "print(scipy.integrate.quad(integrand, 0, x))\n",
    "\n",
    "analytical = lambda x : 2 * math.sqrt(x)\n",
    "print(analytical(x))"
   ]
  },
  {
   "cell_type": "code",
   "execution_count": 40,
   "metadata": {},
   "outputs": [
    {
     "name": "stdout",
     "output_type": "stream",
     "text": [
      "0.846551009478061\n",
      "(0.8465735902799725, 9.992007221626409e-16)\n",
      "0.8465735902799727\n"
     ]
    }
   ],
   "source": [
    "integrator = TrapezoidalSingularity(0.0001)\n",
    "integrand = lambda t : -math.log(t)\n",
    "\n",
    "f = lambda x : integrator(integrand, 0, x)\n",
    "x = 0.5\n",
    "print(f(x))\n",
    "print(scipy.integrate.quad(integrand, 0, x))\n",
    "\n",
    "analytical = lambda x : x - x * math.log(x)\n",
    "print(analytical(x))"
   ]
  },
  {
   "cell_type": "code",
   "execution_count": 41,
   "metadata": {},
   "outputs": [
    {
     "name": "stdout",
     "output_type": "stream",
     "text": [
      "-50.608889918406774\n",
      "(-50.608889940182415, 7.288959426851113e-13)\n",
      "-50.608889940182415\n"
     ]
    }
   ],
   "source": [
    "integrator = TrapezoidalSingularity(0.000001)\n",
    "integrand = lambda t : math.exp(t) * math.cos(t)\n",
    "\n",
    "f = lambda x : integrator(integrand, 0, x)\n",
    "x = 5\n",
    "print(f(x))\n",
    "print(scipy.integrate.quad(integrand, 0, x))\n",
    "\n",
    "analytical = lambda x : math.exp(x) * (math.cos(x) + math.sin(x)) / 2 - 0.5\n",
    "print(analytical(x))"
   ]
  },
  {
   "cell_type": "code",
   "execution_count": 42,
   "metadata": {},
   "outputs": [
    {
     "name": "stdout",
     "output_type": "stream",
     "text": [
      "0.40864369355133734\n",
      "(0.4086436935482122, 4.5368563744509165e-15)\n",
      "0.40864369354821206\n"
     ]
    }
   ],
   "source": [
    "integrator = TrapezoidalSingularity(0.000001)\n",
    "integrand = lambda t : t**2 * math.cosh(t**2)\n",
    "\n",
    "f = lambda x : integrator(integrand, 0, x)\n",
    "x = 1\n",
    "print(f(x))\n",
    "print(scipy.integrate.quad(integrand, 0, x))\n",
    "\n",
    "analytical = lambda x : (2 * (x * math.exp(x**2) - x * math.exp(-x**2)) - math.sqrt(math.pi) * (scipy.special.erfi(x) - math.erf(x)) ) / 8\n",
    "print(analytical(x))"
   ]
  },
  {
   "cell_type": "code",
   "execution_count": 6,
   "metadata": {},
   "outputs": [
    {
     "name": "stdout",
     "output_type": "stream",
     "text": [
      "HERE\n"
     ]
    },
    {
     "ename": "TypeError",
     "evalue": "TanhSinhQuadrature.integrate.<locals>.<lambda>() missing 1 required positional argument: 'k'",
     "output_type": "error",
     "traceback": [
      "\u001b[1;31m---------------------------------------------------------------------------\u001b[0m",
      "\u001b[1;31mTypeError\u001b[0m                                 Traceback (most recent call last)",
      "Cell \u001b[1;32mIn[6], line 6\u001b[0m\n\u001b[0;32m      4\u001b[0m f \u001b[39m=\u001b[39m \u001b[39mlambda\u001b[39;00m x : integrator(integrand, \u001b[39m0\u001b[39m, x)\n\u001b[0;32m      5\u001b[0m x \u001b[39m=\u001b[39m \u001b[39m2\u001b[39m\n\u001b[1;32m----> 6\u001b[0m \u001b[39mprint\u001b[39m(f(x))\n\u001b[0;32m      7\u001b[0m \u001b[39mprint\u001b[39m(scipy\u001b[39m.\u001b[39mintegrate\u001b[39m.\u001b[39mquad(integrand, \u001b[39m0\u001b[39m, x))\n\u001b[0;32m      9\u001b[0m analytical \u001b[39m=\u001b[39m \u001b[39mlambda\u001b[39;00m x : math\u001b[39m.\u001b[39msin(x) \u001b[39m+\u001b[39m (\u001b[39m2\u001b[39m \u001b[39m*\u001b[39m math\u001b[39m.\u001b[39msqrt(x) \u001b[39m*\u001b[39m (math\u001b[39m.\u001b[39msin(\u001b[39m1\u001b[39m\u001b[39m/\u001b[39mx)\u001b[39m*\u001b[39mx \u001b[39m+\u001b[39m \u001b[39m2\u001b[39m\u001b[39m*\u001b[39mmath\u001b[39m.\u001b[39mcos(\u001b[39m1\u001b[39m\u001b[39m/\u001b[39mx)) \u001b[39m+\u001b[39m \u001b[39m2\u001b[39m\u001b[39m*\u001b[39m\u001b[39m*\u001b[39m(\u001b[39m5\u001b[39m\u001b[39m/\u001b[39m\u001b[39m2\u001b[39m) \u001b[39m*\u001b[39m math\u001b[39m.\u001b[39msqrt(math\u001b[39m.\u001b[39mpi) \u001b[39m*\u001b[39m scipy\u001b[39m.\u001b[39mspecial\u001b[39m.\u001b[39mfresnel(math\u001b[39m.\u001b[39msqrt(\u001b[39m2\u001b[39m \u001b[39m/\u001b[39m (math\u001b[39m.\u001b[39mpi \u001b[39m*\u001b[39m x)))[\u001b[39m0\u001b[39m]) \u001b[39m/\u001b[39m \u001b[39m3\u001b[39m\n",
      "Cell \u001b[1;32mIn[6], line 4\u001b[0m, in \u001b[0;36m<lambda>\u001b[1;34m(x)\u001b[0m\n\u001b[0;32m      1\u001b[0m integrator \u001b[39m=\u001b[39m TanhSinhQuadrature(\u001b[39m0.00001\u001b[39m)\n\u001b[0;32m      2\u001b[0m integrand \u001b[39m=\u001b[39m \u001b[39mlambda\u001b[39;00m t : math\u001b[39m.\u001b[39msin(\u001b[39m1\u001b[39m\u001b[39m/\u001b[39mt) \u001b[39m*\u001b[39m math\u001b[39m.\u001b[39msqrt(t) \u001b[39m+\u001b[39m math\u001b[39m.\u001b[39mcos(t)\n\u001b[1;32m----> 4\u001b[0m f \u001b[39m=\u001b[39m \u001b[39mlambda\u001b[39;00m x : integrator(integrand, \u001b[39m0\u001b[39;49m, x)\n\u001b[0;32m      5\u001b[0m x \u001b[39m=\u001b[39m \u001b[39m2\u001b[39m\n\u001b[0;32m      6\u001b[0m \u001b[39mprint\u001b[39m(f(x))\n",
      "File \u001b[1;32mc:\\Codes\\deFerMat\\integrate.py:9\u001b[0m, in \u001b[0;36mIntegrator.__call__\u001b[1;34m(self, f, x1, x2)\u001b[0m\n\u001b[0;32m      8\u001b[0m \u001b[39mdef\u001b[39;00m \u001b[39m__call__\u001b[39m(\u001b[39mself\u001b[39m, f, x1, x2):\n\u001b[1;32m----> 9\u001b[0m     \u001b[39mreturn\u001b[39;00m \u001b[39mself\u001b[39;49m\u001b[39m.\u001b[39;49mintegrate(f, x1, x2)\n",
      "File \u001b[1;32mc:\\Codes\\deFerMat\\integrate.py:83\u001b[0m, in \u001b[0;36mTanhSinhQuadrature.integrate\u001b[1;34m(self, f, x1, x2)\u001b[0m\n\u001b[0;32m     81\u001b[0m result \u001b[39m=\u001b[39m \u001b[39m0\u001b[39m\n\u001b[0;32m     82\u001b[0m \u001b[39mfor\u001b[39;00m k \u001b[39min\u001b[39;00m \u001b[39mrange\u001b[39m(\u001b[39mself\u001b[39m\u001b[39m.\u001b[39ma, \u001b[39mself\u001b[39m\u001b[39m.\u001b[39mb):\n\u001b[1;32m---> 83\u001b[0m     result \u001b[39m+\u001b[39m\u001b[39m=\u001b[39m w(k) \u001b[39m*\u001b[39m f_transform_tanhsinh(k)\n\u001b[0;32m     85\u001b[0m result \u001b[39m*\u001b[39m\u001b[39m=\u001b[39m (x2\u001b[39m-\u001b[39mx1) \u001b[39m/\u001b[39m \u001b[39m2\u001b[39m\n\u001b[0;32m     87\u001b[0m \u001b[39mprint\u001b[39m(\u001b[39m\"\u001b[39m\u001b[39mHERE\u001b[39m\u001b[39m\"\u001b[39m)\n",
      "\u001b[1;31mTypeError\u001b[0m: TanhSinhQuadrature.integrate.<locals>.<lambda>() missing 1 required positional argument: 'k'"
     ]
    }
   ],
   "source": [
    "integrator = TanhSinhQuadrature(0.00001)\n",
    "integrand = lambda t : math.sin(1/t) * math.sqrt(t) + math.cos(t)\n",
    "\n",
    "f = lambda x : integrator(integrand, 0, x)\n",
    "x = 2\n",
    "print(f(x))\n",
    "print(scipy.integrate.quad(integrand, 0, x))\n",
    "\n",
    "analytical = lambda x : math.sin(x) + (2 * math.sqrt(x) * (math.sin(1/x)*x + 2*math.cos(1/x)) + 2**(5/2) * math.sqrt(math.pi) * scipy.special.fresnel(math.sqrt(2 / (math.pi * x)))[0]) / 3\n",
    "print(analytical(x))"
   ]
  },
  {
   "cell_type": "code",
   "execution_count": 19,
   "metadata": {},
   "outputs": [
    {
     "name": "stdout",
     "output_type": "stream",
     "text": [
      "2.320150418751407\n",
      "(2.320150409527074, 3.945288540307956e-12)\n",
      "3.7767986083180665\n"
     ]
    }
   ],
   "source": [
    "integrator = TrapezoidalSingularity(0.00001)\n",
    "integrand = lambda t : math.sin(t) * math.sqrt(1/t) + math.cos(t)\n",
    "\n",
    "f = lambda x : integrator(integrand, 0, x)\n",
    "x = 2\n",
    "print(f(x))\n",
    "print(scipy.integrate.quad(integrand, 0, x))\n",
    "\n",
    "analytical = lambda x : math.sin(x) + (2 * math.sqrt(x) * (math.sin(1/x)*x + 2*math.cos(1/x)) + 2**(5/2) * math.sqrt(math.pi) * scipy.special.fresnel(math.sqrt(2 / (math.pi * x)))[0]) / 3\n",
    "print(analytical(x))"
   ]
  },
  {
   "cell_type": "code",
   "execution_count": 6,
   "metadata": {},
   "outputs": [
    {
     "name": "stdout",
     "output_type": "stream",
     "text": [
      "0.8047008069156589\n"
     ]
    }
   ],
   "source": []
  },
  {
   "cell_type": "code",
   "execution_count": null,
   "metadata": {},
   "outputs": [],
   "source": []
  },
  {
   "cell_type": "code",
   "execution_count": null,
   "metadata": {},
   "outputs": [],
   "source": []
  }
 ],
 "metadata": {
  "kernelspec": {
   "display_name": "Python 3",
   "language": "python",
   "name": "python3"
  },
  "language_info": {
   "codemirror_mode": {
    "name": "ipython",
    "version": 3
   },
   "file_extension": ".py",
   "mimetype": "text/x-python",
   "name": "python",
   "nbconvert_exporter": "python",
   "pygments_lexer": "ipython3",
   "version": "3.11.2"
  },
  "orig_nbformat": 4
 },
 "nbformat": 4,
 "nbformat_minor": 2
}
